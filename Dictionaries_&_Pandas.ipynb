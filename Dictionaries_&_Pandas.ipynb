{
  "nbformat": 4,
  "nbformat_minor": 0,
  "metadata": {
    "colab": {
      "provenance": [],
      "authorship_tag": "ABX9TyM6IhHp2og85oAJn/7HRwHm",
      "include_colab_link": true
    },
    "kernelspec": {
      "name": "python3",
      "display_name": "Python 3"
    },
    "language_info": {
      "name": "python"
    }
  },
  "cells": [
    {
      "cell_type": "markdown",
      "metadata": {
        "id": "view-in-github",
        "colab_type": "text"
      },
      "source": [
        "<a href=\"https://colab.research.google.com/github/Antu116/Dictionaries-Pandas/blob/main/Dictionaries_%26_Pandas.ipynb\" target=\"_parent\"><img src=\"https://colab.research.google.com/assets/colab-badge.svg\" alt=\"Open In Colab\"/></a>"
      ]
    },
    {
      "cell_type": "code",
      "execution_count": null,
      "metadata": {
        "id": "_U3sGQbO1cyr"
      },
      "outputs": [],
      "source": [
        "# Import the course packages\n",
        "import numpy as np\n",
        "import pandas as pd\n",
        "import matplotlib.pyplot as plt"
      ]
    },
    {
      "cell_type": "markdown",
      "source": [
        "# Use the index() method on countries to find the index of 'germany'. Store this index as ind_ger.\n",
        "## Use ind_ger to access the capital of Germany from the capitals list. Print it out."
      ],
      "metadata": {
        "id": "39qrVvPK1iYU"
      }
    },
    {
      "cell_type": "code",
      "source": [
        "# Definition of countries and capital\n",
        "countries = ['spain', 'france', 'germany', 'norway']\n",
        "capitals = ['madrid', 'paris', 'berlin', 'oslo']\n",
        "\n",
        "# Get index of 'germany': ind_ger\n",
        "ind_ger = countries.index('germany')\n",
        "\n",
        "# Use ind_ger to print out capital of Germany\n",
        "print(capitals[ind_ger])"
      ],
      "metadata": {
        "colab": {
          "base_uri": "https://localhost:8080/"
        },
        "id": "wcibrMdh2AYj",
        "outputId": "25bc169d-6976-4500-debc-b24a8acc30ec"
      },
      "execution_count": 1,
      "outputs": [
        {
          "output_type": "stream",
          "name": "stdout",
          "text": [
            "berlin\n"
          ]
        }
      ]
    },
    {
      "cell_type": "markdown",
      "source": [
        "\n",
        "With the strings in countries and capitals, create a dictionary called europe with 4 key:value pairs. Beware of capitalization! Make sure you use lowercase characters everywhere.\n",
        "Print out europe to see if the result is what you expected."
      ],
      "metadata": {
        "id": "i09K9VPA2GuV"
      }
    },
    {
      "cell_type": "code",
      "source": [
        "# Definition of countries and capital\n",
        "countries = ['spain', 'france', 'germany', 'norway']\n",
        "capitals = ['madrid', 'paris', 'berlin', 'oslo']\n",
        "\n",
        "# From string in countries and capitals, create dictionary europe\n",
        "europe = {'spain':'madrid', 'france': 'paris', 'germany':'berlin', 'norway':'oslo' }\n",
        "\n",
        "# Print europe\n",
        "print(europe)"
      ],
      "metadata": {
        "id": "DTDvqTQP2KJv"
      },
      "execution_count": null,
      "outputs": []
    },
    {
      "cell_type": "markdown",
      "source": [
        "\n",
        "Check out which keys are in europe by calling the keys() method on europe. Print out the result.\n",
        "Print out the value that belongs to the key 'norway'."
      ],
      "metadata": {
        "id": "7us3OkPD2Mmw"
      }
    },
    {
      "cell_type": "code",
      "source": [
        "# Definition of dictionary\n",
        "europe = {'spain':'madrid', 'france':'paris', 'germany':'berlin', 'norway':'oslo' }\n",
        "\n",
        "# Print out the keys in europe\n",
        "print(europe.keys())\n",
        "\n",
        "# Print out value that belongs to key 'norway'\n",
        "print(europe.values())"
      ],
      "metadata": {
        "id": "C8kbGt-h2OJp"
      },
      "execution_count": null,
      "outputs": []
    },
    {
      "cell_type": "markdown",
      "source": [
        "\n",
        "Add the key 'italy' with the value 'rome' to europe.\n",
        "To assert that 'italy' is now a key in europe, print out 'italy' in europe.\n",
        "Add another key:value pair to europe: 'poland' is the key, 'warsaw' is the corresponding value.\n",
        "Print out europe."
      ],
      "metadata": {
        "id": "DptTxRIU2QLa"
      }
    },
    {
      "cell_type": "code",
      "source": [
        "# Definition of dictionary\n",
        "europe = {'spain':'madrid', 'france':'paris', 'germany':'berlin', 'norway':'oslo' }\n",
        "\n",
        "# Add italy to europe\n",
        "europe['italy'] = 'rome'\n",
        "\n",
        "# Print out italy in europe\n",
        "print('italy' in europe)\n",
        "\n",
        "# Add poland to europe\n",
        "europe['poland'] = 'warsaw'\n",
        "\n",
        "# Print europe\n",
        "print(europe)"
      ],
      "metadata": {
        "id": "Vh7ie7oY2SAb"
      },
      "execution_count": null,
      "outputs": []
    },
    {
      "cell_type": "markdown",
      "source": [
        "\n",
        "The capital of Germany is not 'bonn'; it's 'berlin'. Update its value.\n",
        "Australia is not in Europe, Austria is! Remove the key 'australia' from europe.\n",
        "Print out europe to see if your cleaning work paid off."
      ],
      "metadata": {
        "id": "UDoLbtKL2Tsk"
      }
    },
    {
      "cell_type": "code",
      "source": [
        "# Definition of dictionary\n",
        "europe = {'spain':'madrid', 'france':'paris', 'germany':'bonn',\n",
        "          'norway':'oslo', 'italy':'rome', 'poland':'warsaw',\n",
        "          'australia':'vienna' }\n",
        "\n",
        "# Update capital of germany\n",
        "europe['germany'] = 'berlin'\n",
        "\n",
        "# Remove australia\n",
        "del(europe['australia'])\n",
        "\n",
        "# Print eur"
      ],
      "metadata": {
        "id": "GL3vnvIr2WT-"
      },
      "execution_count": null,
      "outputs": []
    },
    {
      "cell_type": "markdown",
      "source": [
        "Use chained square brackets to select and print out the capital of France.\n",
        "Create a dictionary, named data, with the keys 'capital' and 'population'. Set them to 'rome' and 59.83, respectively.\n",
        "Add a new key-value pair to europe; the key is 'italy' and the value is data, the dictionary you just built."
      ],
      "metadata": {
        "id": "tLtrITLW2XJG"
      }
    },
    {
      "cell_type": "code",
      "source": [
        "# Dictionary of dictionaries\n",
        "europe = { 'spain': { 'capital':'madrid', 'population':46.77 },\n",
        "           'france': { 'capital':'paris', 'population':66.03 },\n",
        "           'germany': { 'capital':'berlin', 'population':80.62 },\n",
        "           'norway': { 'capital':'oslo', 'population':5.084 } }\n",
        "\n",
        "\n",
        "# Print out the capital of France\n",
        "print(europe['spain']['capital'])\n",
        "\n",
        "# Create sub-dictionary data\n",
        "data = {'capital':'rome','population':59.83}\n",
        "\n",
        "# Add data to eu"
      ],
      "metadata": {
        "id": "RbEXmzgo2a0I"
      },
      "execution_count": null,
      "outputs": []
    },
    {
      "cell_type": "markdown",
      "source": [
        "**PANDAS**"
      ],
      "metadata": {
        "id": "CC-1kfmR2c7Z"
      }
    },
    {
      "cell_type": "markdown",
      "source": [
        "Import pandas as pd. Use the pre-defined lists to create a dictionary called my_dict. There should be three key value pairs: key 'country' and value names. key 'drives_right' and value dr. key 'cars_per_cap' and value cpc. Use pd.DataFrame() to turn your dict into a DataFrame called cars. Print out cars and see how beautiful it is."
      ],
      "metadata": {
        "id": "2YEtFjUc2fjC"
      }
    },
    {
      "cell_type": "code",
      "source": [
        "# Pre-defined lists\n",
        "names = ['United States', 'Australia', 'Japan', 'India', 'Russia', 'Morocco', 'Egypt']\n",
        "dr =  [True, False, False, False, True, True, True]\n",
        "cpc = [809, 731, 588, 18, 200, 70, 45]\n",
        "\n",
        "# Import pandas as pd\n",
        "import pandas as pd\n",
        "\n",
        "# Create dictionary my_dict with three key:value pairs: my_dict\n",
        "my_dict = {'country':names,\n",
        "'drives_right':dr,\n",
        "'cars_per_cap':cpc}\n",
        "\n",
        "# Build a DataFrame cars from my_dict: cars\n",
        "cars = pd.DataFrame(my_dict)\n",
        "\n",
        "# Print cars\n",
        "print(cars)"
      ],
      "metadata": {
        "colab": {
          "base_uri": "https://localhost:8080/"
        },
        "id": "SYOS9ZYm2kON",
        "outputId": "4b877745-7f49-4b23-aef1-48e2da4131fe"
      },
      "execution_count": 2,
      "outputs": [
        {
          "output_type": "stream",
          "name": "stdout",
          "text": [
            "         country  drives_right  cars_per_cap\n",
            "0  United States          True           809\n",
            "1      Australia         False           731\n",
            "2          Japan         False           588\n",
            "3          India         False            18\n",
            "4         Russia          True           200\n",
            "5        Morocco          True            70\n",
            "6          Egypt          True            45\n"
          ]
        }
      ]
    },
    {
      "cell_type": "markdown",
      "source": [
        "\n",
        "Hit Run Code to see that, indeed, the row labels are not correctly set. Specify the row labels by setting cars.index equal to row_labels. Print out cars again and check if the row labels are correct this time."
      ],
      "metadata": {
        "id": "HdTFCCF-2nNu"
      }
    },
    {
      "cell_type": "code",
      "source": [
        "import pandas as pd\n",
        "\n",
        "# Build cars DataFrame\n",
        "names = ['United States', 'Australia', 'Japan', 'India', 'Russia', 'Morocco', 'Egypt']\n",
        "dr =  [True, False, False, False, True, True, True]\n",
        "cpc = [809, 731, 588, 18, 200, 70, 45]\n",
        "cars_dict = { 'country':names, 'drives_right':dr, 'cars_per_cap':cpc }\n",
        "cars = pd.DataFrame(cars_dict)\n",
        "print(cars)\n",
        "\n",
        "# Definition of row_labels\n",
        "row_labels = ['US', 'AUS', 'JPN', 'IN', 'RU', 'MOR', 'EG']\n",
        "\n",
        "# Specify row labels of cars\n",
        "cars.index = row_labels\n",
        "\n",
        "# Print cars again\n",
        "print(cars)"
      ],
      "metadata": {
        "colab": {
          "base_uri": "https://localhost:8080/"
        },
        "id": "rWbodFKW2o_3",
        "outputId": "2e5c12a9-1834-430c-8a93-7aeab00e9010"
      },
      "execution_count": 3,
      "outputs": [
        {
          "output_type": "stream",
          "name": "stdout",
          "text": [
            "         country  drives_right  cars_per_cap\n",
            "0  United States          True           809\n",
            "1      Australia         False           731\n",
            "2          Japan         False           588\n",
            "3          India         False            18\n",
            "4         Russia          True           200\n",
            "5        Morocco          True            70\n",
            "6          Egypt          True            45\n",
            "           country  drives_right  cars_per_cap\n",
            "US   United States          True           809\n",
            "AUS      Australia         False           731\n",
            "JPN          Japan         False           588\n",
            "IN           India         False            18\n",
            "RU          Russia          True           200\n",
            "MOR        Morocco          True            70\n",
            "EG           Egypt          True            45\n"
          ]
        }
      ]
    },
    {
      "cell_type": "markdown",
      "source": [
        "To import CSV files you still need the pandas package: import it as pd. Use pd.read_csv() to import cars.csv data as a DataFrame. Store this DataFrame as cars. Print out cars. Does everything look OK?\n",
        "\n",
        "Run the code with Run Code and assert that the first column should actually be used as row labels. Specify the index_col argument inside pd.read_csv(): set it to 0, so that the first column is used as row labels. Has the printout of cars improved now?"
      ],
      "metadata": {
        "id": "nb2eNPEc2ryR"
      }
    },
    {
      "cell_type": "code",
      "source": [
        "# Import pandas as pd\n",
        "import pandas as pd\n",
        "\n",
        "# Fix import by including index_col\n",
        "cars = pd.read_csv('/content/cars.csv', index_col = 0)\n",
        "\n",
        "# Print out cars\n",
        "print(cars)"
      ],
      "metadata": {
        "colab": {
          "base_uri": "https://localhost:8080/"
        },
        "id": "tqksZwz22yPM",
        "outputId": "eaac9752-e48d-48b2-d5a4-9bc3a0e8bece"
      },
      "execution_count": 7,
      "outputs": [
        {
          "output_type": "stream",
          "name": "stdout",
          "text": [
            "            cars_per_cap        country  drives_right\n",
            "country_ab                                           \n",
            "US                   809  United States          True\n",
            "AUS                  731      Australia         False\n",
            "JAP                  588          Japan         False\n",
            "IN                    18          India         False\n",
            "RU                   200         Russia          True\n",
            "MOR                   70        Morocco          True\n",
            "EG                    45          Egypt          True\n"
          ]
        }
      ]
    },
    {
      "cell_type": "markdown",
      "source": [
        "**loc & iloc**"
      ],
      "metadata": {
        "id": "_BdTHNCo20JO"
      }
    },
    {
      "cell_type": "markdown",
      "source": [
        "\n",
        "Use single square brackets to print out the country column of cars as a Pandas Series. Use double square brackets to print out the country column of cars as a Pandas DataFrame. Use double square brackets to print out a DataFrame with both the country and drives_right columns of cars, in this order."
      ],
      "metadata": {
        "id": "c8B-grI12zx9"
      }
    },
    {
      "cell_type": "code",
      "source": [
        "# Import cars data\n",
        "import pandas as pd\n",
        "cars = pd.read_csv('/content/cars.csv', index_col = 0)\n",
        "\n",
        "# Print out country column as Pandas Series\n",
        "print(cars['country'])\n",
        "\n",
        "# Print out country column as Pandas DataFrame\n",
        "print(cars[['country']])\n",
        "\n",
        "# Print out DataFrame with country and drives_right columns\n",
        "print(cars[['country','drives_right']])"
      ],
      "metadata": {
        "colab": {
          "base_uri": "https://localhost:8080/"
        },
        "id": "6cexdCe92-oD",
        "outputId": "32e6a294-326f-4e86-dc4a-b2ea6f717b60"
      },
      "execution_count": 8,
      "outputs": [
        {
          "output_type": "stream",
          "name": "stdout",
          "text": [
            "country_ab\n",
            "US     United States\n",
            "AUS        Australia\n",
            "JAP            Japan\n",
            "IN             India\n",
            "RU            Russia\n",
            "MOR          Morocco\n",
            "EG             Egypt\n",
            "Name: country, dtype: object\n",
            "                  country\n",
            "country_ab               \n",
            "US          United States\n",
            "AUS             Australia\n",
            "JAP                 Japan\n",
            "IN                  India\n",
            "RU                 Russia\n",
            "MOR               Morocco\n",
            "EG                  Egypt\n",
            "                  country  drives_right\n",
            "country_ab                             \n",
            "US          United States          True\n",
            "AUS             Australia         False\n",
            "JAP                 Japan         False\n",
            "IN                  India         False\n",
            "RU                 Russia          True\n",
            "MOR               Morocco          True\n",
            "EG                  Egypt          True\n"
          ]
        }
      ]
    },
    {
      "cell_type": "markdown",
      "source": [
        "Select the first 3 observations from cars and print them out. Select the fourth, fifth and sixth observation, corresponding to row indexes 3, 4 and 5, and print them out"
      ],
      "metadata": {
        "id": "wmqT8X3t3mR3"
      }
    },
    {
      "cell_type": "code",
      "source": [
        "# Import cars data\n",
        "import pandas as pd\n",
        "cars = pd.read_csv('/content/cars.csv', index_col = 0)\n",
        "\n",
        "# Print out first 3 observations\n",
        "print(cars[0:3])\n",
        "\n",
        "# Print out fourth, fifth and sixth observation\n",
        "print(cars[3:6])"
      ],
      "metadata": {
        "colab": {
          "base_uri": "https://localhost:8080/"
        },
        "id": "8e8LzXHZ3phB",
        "outputId": "73ba8126-af9e-412f-e53e-3cd12d202ad7"
      },
      "execution_count": 12,
      "outputs": [
        {
          "output_type": "stream",
          "name": "stdout",
          "text": [
            "            cars_per_cap        country  drives_right\n",
            "country_ab                                           \n",
            "US                   809  United States          True\n",
            "AUS                  731      Australia         False\n",
            "JAP                  588          Japan         False\n",
            "            cars_per_cap  country  drives_right\n",
            "country_ab                                     \n",
            "IN                    18    India         False\n",
            "RU                   200   Russia          True\n",
            "MOR                   70  Morocco          True\n"
          ]
        }
      ]
    },
    {
      "cell_type": "markdown",
      "source": [
        "\n",
        "Use loc or iloc to select the observation corresponding to Japan as a Series. The label of this row is JPN, the index is 2. Make sure to print the resulting Series. Use loc or iloc to select the observations for Australia and Egypt as a DataFrame. You can find out about the labels/indexes of these rows by inspecting cars in the IPython Shell. Make sure to print the resulting DataFrame."
      ],
      "metadata": {
        "id": "gphym9yi3rXq"
      }
    },
    {
      "cell_type": "code",
      "source": [
        "# Import cars data\n",
        "import pandas as pd\n",
        "cars = pd.read_csv('/content/cars.csv', index_col = 0)\n",
        "# Print out observation for Japan\n",
        "print(cars.iloc[2])\n",
        "\n",
        "# Print out observations for Australia and Egypt\n",
        "print(cars.iloc[[1,6]])"
      ],
      "metadata": {
        "colab": {
          "base_uri": "https://localhost:8080/"
        },
        "id": "3iMNQEVC3s1D",
        "outputId": "e733ab2f-7b26-48f2-fa51-8f172fb56fcd"
      },
      "execution_count": 11,
      "outputs": [
        {
          "output_type": "stream",
          "name": "stdout",
          "text": [
            "cars_per_cap      588\n",
            "country         Japan\n",
            "drives_right    False\n",
            "Name: JAP, dtype: object\n",
            "            cars_per_cap    country  drives_right\n",
            "country_ab                                       \n",
            "AUS                  731  Australia         False\n",
            "EG                    45      Egypt          True\n"
          ]
        }
      ]
    },
    {
      "cell_type": "markdown",
      "source": [
        "Print out the drives_right value of the row corresponding to Morocco (its row label is MOR) Print out a sub-DataFrame, containing the observations for Russia and Morocco and the columns country and drives_right."
      ],
      "metadata": {
        "id": "TN4FcFWO3vbF"
      }
    },
    {
      "cell_type": "code",
      "source": [
        "# Import cars data\n",
        "import pandas as pd\n",
        "cars = pd.read_csv('/content/cars.csv', index_col = 0)\n",
        "\n",
        "# Print out drives_right value of Morocco\n",
        "print(cars.loc['MOR','drives_right'])\n",
        "\n",
        "# Print sub-DataFrame\n",
        "print(cars.loc[['RU', 'MOR'], ['country', 'drives_right']])"
      ],
      "metadata": {
        "colab": {
          "base_uri": "https://localhost:8080/"
        },
        "id": "xWfLBsAO3wBl",
        "outputId": "9c1ea5f5-ea32-41c8-fac7-dea36f31aa4d"
      },
      "execution_count": 10,
      "outputs": [
        {
          "output_type": "stream",
          "name": "stdout",
          "text": [
            "True\n",
            "            country  drives_right\n",
            "country_ab                       \n",
            "RU           Russia          True\n",
            "MOR         Morocco          True\n"
          ]
        }
      ]
    },
    {
      "cell_type": "markdown",
      "source": [
        "\n",
        "Print out the drives_right column as a Series using loc or iloc. Print out the drives_right column as a DataFrame using loc or iloc. Print out both the cars_per_cap and drives_right column as a DataFrame using loc or iloc."
      ],
      "metadata": {
        "id": "60arg8cT3xiO"
      }
    },
    {
      "cell_type": "code",
      "source": [
        "# Import cars data\n",
        "import pandas as pd\n",
        "cars = pd.read_csv('/content/cars.csv', index_col = 0)\n",
        "\n",
        "# Print out drives_right column as Series\n",
        "print(cars.loc[:,'drives_right'])\n",
        "\n",
        "# Print out drives_right column as DataFrame\n",
        "print(cars.loc[:,['drives_right']])\n",
        "\n",
        "# Print out cars_per_cap and drives_right as DataFrame\n",
        "print(cars.loc[:,['cars_per_cap','drives_right']])"
      ],
      "metadata": {
        "colab": {
          "base_uri": "https://localhost:8080/"
        },
        "id": "8cgw_Gy_3zoH",
        "outputId": "acf88b23-b412-4aa8-8b1d-fc6668b2095a"
      },
      "execution_count": 9,
      "outputs": [
        {
          "output_type": "stream",
          "name": "stdout",
          "text": [
            "country_ab\n",
            "US      True\n",
            "AUS    False\n",
            "JAP    False\n",
            "IN     False\n",
            "RU      True\n",
            "MOR     True\n",
            "EG      True\n",
            "Name: drives_right, dtype: bool\n",
            "            drives_right\n",
            "country_ab              \n",
            "US                  True\n",
            "AUS                False\n",
            "JAP                False\n",
            "IN                 False\n",
            "RU                  True\n",
            "MOR                 True\n",
            "EG                  True\n",
            "            cars_per_cap  drives_right\n",
            "country_ab                            \n",
            "US                   809          True\n",
            "AUS                  731         False\n",
            "JAP                  588         False\n",
            "IN                    18         False\n",
            "RU                   200          True\n",
            "MOR                   70          True\n",
            "EG                    45          True\n"
          ]
        }
      ]
    }
  ]
}